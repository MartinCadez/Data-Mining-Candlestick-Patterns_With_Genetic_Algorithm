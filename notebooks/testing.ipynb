{
 "cells": [
  {
   "cell_type": "code",
   "execution_count": 1,
   "metadata": {},
   "outputs": [],
   "source": [
    "import os\n",
    "import sys\n",
    "\n",
    "# Add the parent directory to the path so that we can import the modules\n",
    "current_dir = os.getcwd()\n",
    "parent_dir = os.path.dirname(current_dir)\n",
    "sys.path.append(parent_dir)\n"
   ]
  },
  {
   "cell_type": "code",
   "execution_count": null,
   "metadata": {},
   "outputs": [],
   "source": [
    "from src.modules.pattern_encoder import decode_patterns\n",
    "from src.modules.pattern_generator import CandlestickPatternGenerator\n",
    "\n",
    "# Determine initial population of chromosomes (candlestick patterns)\n",
    "generator = CandlestickPatternGenerator(max_lag=3, num_conds=3)\n",
    "initial_population = generator.get_patterns(num_patterns=1000)\n",
    "\n",
    "# Print only first 5 patterns\n",
    "decode_patterns(initial_population[:5])\n"
   ]
  },
  {
   "cell_type": "code",
   "execution_count": null,
   "metadata": {},
   "outputs": [],
   "source": [
    "import yfinance as yf\n",
    "\n",
    "# Fetching BTC data hourly for 2018\n",
    "btc_data_2023 = yf.download(\n",
    "    \"BTC-USD\",\n",
    "    start=\"2023-01-01\",\n",
    "    end=\"2024-01-01\",\n",
    ").reset_index()\n",
    "\n",
    "btc_data_2023.head(5)\n"
   ]
  },
  {
   "cell_type": "code",
   "execution_count": null,
   "metadata": {},
   "outputs": [],
   "source": [
    "from src.modules.pattern_evaluation import evaluate_candlestick_pattern\n",
    "\n",
    "evaluation_list = []\n",
    "for pattern in initial_population:\n",
    "    log_returns = evaluate_candlestick_pattern(\n",
    "        df=btc_data_2023,\n",
    "        encoded_pattern=pattern,\n",
    "        max_lag=3,\n",
    "    )\n",
    "    evaluation_list.append(log_returns)\n",
    "evaluation_list[:5]\n"
   ]
  },
  {
   "cell_type": "code",
   "execution_count": null,
   "metadata": {},
   "outputs": [],
   "source": [
    "from src.modules.fitness_functions import martin_ratio\n",
    "\n",
    "fitness = []\n",
    "for i in evaluation_list:\n",
    "    fitness.append(martin_ratio(i))\n",
    "\n",
    "fitness\n"
   ]
  },
  {
   "cell_type": "code",
   "execution_count": null,
   "metadata": {},
   "outputs": [],
   "source": [
    "non_zero_list = []\n",
    "for i, value in enumerate(fitness):\n",
    "    if value != 0:\n",
    "        non_zero_list.append(i)\n",
    "print(non_zero_list)\n",
    "\n",
    "\n",
    "for i in non_zero_list:\n",
    "    print(f\"Pattern {i}: {decode_patterns(initial_population)[i]}\")\n",
    "    print(f\"Fitness: {fitness[i]}\")\n"
   ]
  }
 ],
 "metadata": {
  "kernelspec": {
   "display_name": "GENETIC_ALGO",
   "language": "python",
   "name": "python3"
  },
  "language_info": {
   "codemirror_mode": {
    "name": "ipython",
    "version": 3
   },
   "file_extension": ".py",
   "mimetype": "text/x-python",
   "name": "python",
   "nbconvert_exporter": "python",
   "pygments_lexer": "ipython3",
   "version": "3.12.4"
  }
 },
 "nbformat": 4,
 "nbformat_minor": 2
}
